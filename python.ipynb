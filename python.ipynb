{
 "cells": [
  {
   "cell_type": "code",
   "execution_count": null,
   "id": "11f26a26",
   "metadata": {},
   "outputs": [
    {
     "name": "stdout",
     "output_type": "stream",
     "text": [
      "I Love pizza\n"
     ]
    }
   ],
   "source": [
    "print(\"I Love pizza\") #This Script or print() used to print the output or a string."
   ]
  },
  {
   "cell_type": "markdown",
   "id": "dc02da72",
   "metadata": {},
   "source": [
    "## Variables: a container for the values or acts as values it contains"
   ]
  },
  {
   "cell_type": "code",
   "execution_count": 2,
   "id": "137b881b",
   "metadata": {},
   "outputs": [
    {
     "name": "stdout",
     "output_type": "stream",
     "text": [
      "sriram\n"
     ]
    }
   ],
   "source": [
    "name =\"sriram\" #This is a variable which stores the value of string \"sriram\"\n",
    "print(name) #this will print the value of variable name"
   ]
  },
  {
   "cell_type": "code",
   "execution_count": 3,
   "id": "2298ead6",
   "metadata": {},
   "outputs": [
    {
     "name": "stdout",
     "output_type": "stream",
     "text": [
      "name\n"
     ]
    }
   ],
   "source": [
    "print(\"name\") #this will print the string \"name\" not the value of variable name because it is in quotes"
   ]
  },
  {
   "cell_type": "code",
   "execution_count": 4,
   "id": "420f1cc4",
   "metadata": {},
   "outputs": [
    {
     "name": "stdout",
     "output_type": "stream",
     "text": [
      "Hello, sriram\n"
     ]
    }
   ],
   "source": [
    "print(\"Hello, \"+name) # this will print the string \"Hello, \" and the values of variable name because of the + operater which is used to concatenate the strings"
   ]
  },
  {
   "cell_type": "code",
   "execution_count": 6,
   "id": "735e40c7",
   "metadata": {},
   "outputs": [
    {
     "name": "stdout",
     "output_type": "stream",
     "text": [
      "<class 'str'>\n"
     ]
    }
   ],
   "source": [
    "#we can also check the type of variable using type() function\n",
    "print(type(name))"
   ]
  },
  {
   "cell_type": "code",
   "execution_count": 8,
   "id": "1888e99d",
   "metadata": {},
   "outputs": [
    {
     "name": "stdout",
     "output_type": "stream",
     "text": [
      "sriramboddu\n"
     ]
    }
   ],
   "source": [
    "first_name= \"sriram\" #This is a variable which stores the valus of string \"sriram\"\n",
    "last_name = \"boddu\" #this is a variable which stores the value of string \"boddu\n",
    "#we can also concatenate the two variables using + operator\n",
    "full_name = first_name+last_name # thia will concatenate the two variables first_name and last_name\n",
    "print(full_name) #this will print the valus of variable full_name "
   ]
  },
  {
   "cell_type": "code",
   "execution_count": 9,
   "id": "d484dedc",
   "metadata": {},
   "outputs": [
    {
     "name": "stdout",
     "output_type": "stream",
     "text": [
      "20\n"
     ]
    }
   ],
   "source": [
    "age = 20 # this is a variable which stores the values of integer 20 \n",
    "print(age)"
   ]
  },
  {
   "cell_type": "code",
   "execution_count": 10,
   "id": "b1b50b02",
   "metadata": {},
   "outputs": [
    {
     "name": "stdout",
     "output_type": "stream",
     "text": [
      "20\n"
     ]
    }
   ],
   "source": [
    "age2 = \"20\" #this is a variable which stores the valus of string \"20\n",
    "print(age2)"
   ]
  },
  {
   "cell_type": "code",
   "execution_count": 12,
   "id": "fbcade91",
   "metadata": {},
   "outputs": [
    {
     "name": "stdout",
     "output_type": "stream",
     "text": [
      "<class 'int'>\n",
      "<class 'str'>\n"
     ]
    }
   ],
   "source": [
    "# we can also check the type of variable using type() function\n",
    "print(type(age))\n",
    "print(type(age2))"
   ]
  },
  {
   "cell_type": "code",
   "execution_count": 13,
   "id": "4e59eea6",
   "metadata": {},
   "outputs": [
    {
     "ename": "TypeError",
     "evalue": "can only concatenate str (not \"int\") to str",
     "output_type": "error",
     "traceback": [
      "\u001b[1;31m---------------------------------------------------------------------------\u001b[0m",
      "\u001b[1;31mTypeError\u001b[0m                                 Traceback (most recent call last)",
      "Cell \u001b[1;32mIn[13], line 1\u001b[0m\n\u001b[1;32m----> 1\u001b[0m \u001b[38;5;28mprint\u001b[39m(\u001b[38;5;124;43m\"\u001b[39;49m\u001b[38;5;124;43myour age is \u001b[39;49m\u001b[38;5;124;43m\"\u001b[39;49m\u001b[43m \u001b[49m\u001b[38;5;241;43m+\u001b[39;49m\u001b[43m \u001b[49m\u001b[43mage\u001b[49m) \u001b[38;5;66;03m# thia will give an error because we are trying to concatenate a string and an integer\u001b[39;00m\n",
      "\u001b[1;31mTypeError\u001b[0m: can only concatenate str (not \"int\") to str"
     ]
    }
   ],
   "source": [
    "print(\"your age is \" + age) # thia will give an error because we are trying to concatenate a string and an integer\n"
   ]
  },
  {
   "cell_type": "code",
   "execution_count": 15,
   "id": "3833f00f",
   "metadata": {},
   "outputs": [
    {
     "name": "stdout",
     "output_type": "stream",
     "text": [
      "your age is 20\n"
     ]
    }
   ],
   "source": [
    "#to fix the above error we can convert the integer to string using str() function\n",
    "print(\"your age is \" + str(age)) # this will print the string \"your age is \" and the value of variable age after converting it to string using str() function"
   ]
  },
  {
   "cell_type": "code",
   "execution_count": 16,
   "id": "6b4b2f90",
   "metadata": {},
   "outputs": [
    {
     "name": "stdout",
     "output_type": "stream",
     "text": [
      "250.5\n"
     ]
    }
   ],
   "source": [
    "heigth = 250.5 # this is a variable which stores the value of float 250.5\n",
    "print(heigth)"
   ]
  },
  {
   "cell_type": "code",
   "execution_count": 18,
   "id": "6fb2b034",
   "metadata": {},
   "outputs": [
    {
     "name": "stdout",
     "output_type": "stream",
     "text": [
      "<class 'float'>\n"
     ]
    }
   ],
   "source": [
    "print(type(heigth)) # this will print the type of variable heigth which is float"
   ]
  },
  {
   "cell_type": "code",
   "execution_count": 19,
   "id": "7dd2687c",
   "metadata": {},
   "outputs": [
    {
     "name": "stdout",
     "output_type": "stream",
     "text": [
      "Your heigth is 250.5\n"
     ]
    }
   ],
   "source": [
    "print(\"Your heigth is \"+ str(heigth)) #this will print the string \"Your heigth is \" and the values of variable height after convertint to the string"
   ]
  },
  {
   "cell_type": "code",
   "execution_count": 21,
   "id": "fcd73266",
   "metadata": {},
   "outputs": [
    {
     "name": "stdout",
     "output_type": "stream",
     "text": [
      "False\n"
     ]
    }
   ],
   "source": [
    "human= False # this is a variable which stores the valus of boolean False]\n",
    "print(human)"
   ]
  },
  {
   "cell_type": "code",
   "execution_count": 22,
   "id": "9d901eca",
   "metadata": {},
   "outputs": [
    {
     "name": "stdout",
     "output_type": "stream",
     "text": [
      "<class 'bool'>\n"
     ]
    }
   ],
   "source": [
    "print(type(human))"
   ]
  },
  {
   "cell_type": "code",
   "execution_count": 23,
   "id": "1c5e305f",
   "metadata": {},
   "outputs": [
    {
     "name": "stdout",
     "output_type": "stream",
     "text": [
      "Are you Alien? : False\n"
     ]
    }
   ],
   "source": [
    "print(\"Are you Alien? : \" + str(human))"
   ]
  },
  {
   "cell_type": "code",
   "execution_count": null,
   "id": "324103f3",
   "metadata": {},
   "outputs": [
    {
     "name": "stdout",
     "output_type": "stream",
     "text": [
      "6\n",
      "0\n",
      "Sriram\n",
      "SRIRAM\n",
      "sriram\n",
      "False\n",
      "True\n",
      "2\n",
      "Sriram\n",
      "sriramsriramsriram\n"
     ]
    }
   ],
   "source": [
    "name = \"sriram\"\n",
    "\n",
    "print(len(name)) # this will print the length of the string \"sriram\"\n",
    "print(name.find(\"s\"))# this will print the index of the first occurrence of \"i\" in the string \"sriram\"\n",
    "print(name.capitalize()) # this will capaitalized the first letter of the string \"sriram\"\n",
    "print(name.upper()) # this will convert the string \"sriram\" to upppercase SRIRAM\n",
    "print(name.lower()) # this will convert the string \"sriram\" to lowercase sriram\n",
    "print(name.isdigit()) # this will check if the string \"sriram\" is a digit or not, it will return False beacuse \"sriram\" is not a digit\n",
    "print(name.isalpha()) # this will check if the string \"sriram\" is an alphabet or not, it will return True because \"sriram\" is an alphabet\n",
    "print(name.count(\"r\")) # this will count the number of occurrences of \"r\" in the string \"sriram\", it will return 2\n",
    "print(name.replace(\"s\", \"S\")) # this will replace the first occurrence of \"s\" with \"S\" in the string \"sriram\", it will return \"Sriram\"\n",
    "print(name*3) # this will print the string \"sriram\" 3 times, it will return \"sriramsriramsriram\""
   ]
  },
  {
   "cell_type": "code",
   "execution_count": 36,
   "id": "3ee798b9",
   "metadata": {},
   "outputs": [
    {
     "name": "stdout",
     "output_type": "stream",
     "text": [
      "Hello, sriram\n",
      "Your age is 12\n",
      "Your heigth is 75.5\n",
      "Your name is sriram and your age is 12 and your heigth is 75.5\n"
     ]
    }
   ],
   "source": [
    "# Input function\n",
    "name= input (\"Enter your name: \")# this will take input from the user and store it in the variable name\n",
    "age = int(input(\"Enter your age: \")) # this will take input from the user and convvert it to integer using int() function\n",
    "heigth = float(input(\"Enter your heigth: \")) #this will take input from the user and convert it to float using float function\n",
    "\n",
    "print(\"Hello, \"+ name)\n",
    "print(\"Your age is \" + str(age)) #this will print the string \"Your age is \" and the value of variable age after converting it to string using str() function\n",
    "print(\"Your heigth is \" + str(heigth)) # this will print the string \"Your heigth is \" and the value of variable heigth after converting it to string using str() function\n",
    "print(f\"Your name is {name} and your age is {age} and your heigth is {heigth}\") # this will print the string \"Your name is \" and the value of variable name, \"your age is \" and the value of variable age, \"and your heigth is \" and the value of variable heigth using f-string formatting"
   ]
  },
  {
   "cell_type": "code",
   "execution_count": 40,
   "id": "0ba80e71",
   "metadata": {},
   "outputs": [
    {
     "name": "stdout",
     "output_type": "stream",
     "text": [
      "3.141592653589793\n",
      "4\n",
      "3\n",
      "3.141592653589793\n",
      "9.869604401089358\n",
      "4.0\n"
     ]
    }
   ],
   "source": [
    "import math\n",
    "\n",
    "pi = math.pi # this will import the pi value from the math module\n",
    "print(pi) # this will print the value of pi which is 3.141592653589793\n",
    "\n",
    "print(math.ceil(pi)) # this will print the celiing value of pi\n",
    "print(math.floor(pi)) #this will print the floor value of pi\n",
    "print(abs(pi)) # this will print the absolute value of pi\n",
    "print(pow(pi,2)) # this will print the value of pi raised to the power of 2\n",
    "print(math.sqrt(16)) # this will print the square root of 16 which is 4.0"
   ]
  },
  {
   "cell_type": "code",
   "execution_count": 44,
   "id": "56cd013b",
   "metadata": {},
   "outputs": [
    {
     "name": "stdout",
     "output_type": "stream",
     "text": [
      "sriram boddu\n",
      "sriram\n",
      "boddu\n",
      "sia od\n",
      "uddob marirs\n"
     ]
    }
   ],
   "source": [
    "# String Slicing\n",
    "\n",
    "name= \"sriram boddu\"\n",
    "\n",
    "print(name)\n",
    "\n",
    "first_name = name [0:6] # this will slice the string \"sriram boddu\" from index 0 to index 6 (not including index 6)\n",
    "last_name = name [7:12] # this will slice the string \"sriram boddu\" from index 7 to index 12 (not including index 12)\n",
    "functional_name = name [::2] # this will slice the string \"sriram boddu\" from index 0 to the end of the string with step of 2\n",
    "reversed_name = name[::-1] # this will slice the string \"sriram boddu\" from the end to the beginning of the string\n",
    "\n",
    "print(first_name) # this will print the sliced string \"sriram\"\n",
    "print(last_name) # this will print the sliced string \"boddu\"\n",
    "print(functional_name) # this will print the sliced string \"sra od\"\n",
    "print(reversed_name) # this will print the sliced string \"uddob marirs\""
   ]
  },
  {
   "cell_type": "code",
   "execution_count": 45,
   "id": "ad09bf5d",
   "metadata": {},
   "outputs": [
    {
     "name": "stdout",
     "output_type": "stream",
     "text": [
      "You are eligible to vote.\n"
     ]
    }
   ],
   "source": [
    "age = int(input(\"Enter your age: \")) # this will take input from the user and convert it to integer using int() function\n",
    "if age >= 18: # this will check if the age is greater than or equal to 18\n",
    "    print(\"You are eligible to vote.\")\n",
    "elif age < 0: # this will check if the age is less than 0\n",
    "    print(\"Age cannot be negative.\")\n",
    "else:\n",
    "    print(\"You are not eligible to vote.\")"
   ]
  },
  {
   "cell_type": "code",
   "execution_count": null,
   "id": "f8054317",
   "metadata": {},
   "outputs": [],
   "source": []
  }
 ],
 "metadata": {
  "kernelspec": {
   "display_name": "base",
   "language": "python",
   "name": "python3"
  },
  "language_info": {
   "codemirror_mode": {
    "name": "ipython",
    "version": 3
   },
   "file_extension": ".py",
   "mimetype": "text/x-python",
   "name": "python",
   "nbconvert_exporter": "python",
   "pygments_lexer": "ipython3",
   "version": "3.11.7"
  }
 },
 "nbformat": 4,
 "nbformat_minor": 5
}
